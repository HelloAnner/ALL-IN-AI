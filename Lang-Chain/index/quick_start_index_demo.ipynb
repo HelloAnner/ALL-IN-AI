{
 "cells": [
  {
   "cell_type": "markdown",
   "metadata": {
    "collapsed": false
   },
   "source": [
    "参考 https://python.langchain.com/en/latest/modules/indexes/getting_started.html"
   ]
  },
  {
   "cell_type": "code",
   "execution_count": 1,
   "metadata": {
    "collapsed": false
   },
   "outputs": [
    {
     "ename": "ModuleNotFoundError",
     "evalue": "No module named 'langchain.schemas'",
     "output_type": "error",
     "traceback": [
      "\u001B[0;31m---------------------------------------------------------------------------\u001B[0m",
      "\u001B[0;31mModuleNotFoundError\u001B[0m                       Traceback (most recent call last)",
      "Cell \u001B[0;32mIn[1], line 8\u001B[0m\n\u001B[1;32m      4\u001B[0m \u001B[39mfrom\u001B[39;00m \u001B[39mlangchain\u001B[39;00m\u001B[39m.\u001B[39;00m\u001B[39mdocument_loaders\u001B[39;00m \u001B[39mimport\u001B[39;00m TextLoader\n\u001B[1;32m      6\u001B[0m loader \u001B[39m=\u001B[39m TextLoader(\u001B[39m'\u001B[39m\u001B[39mdemo.txt\u001B[39m\u001B[39m'\u001B[39m, encoding\u001B[39m=\u001B[39m\u001B[39m'\u001B[39m\u001B[39mutf8\u001B[39m\u001B[39m'\u001B[39m)\n\u001B[0;32m----> 8\u001B[0m \u001B[39mfrom\u001B[39;00m \u001B[39mlangchain\u001B[39;00m\u001B[39m.\u001B[39;00m\u001B[39mindexes\u001B[39;00m \u001B[39mimport\u001B[39;00m VectorstoreIndexCreator\n\u001B[1;32m     10\u001B[0m index \u001B[39m=\u001B[39m VectorstoreIndexCreator()\u001B[39m.\u001B[39mfrom_loaders([loader])\n",
      "File \u001B[0;32m~/compiler/miniconda/envs/dfpy/lib/python3.10/site-packages/langchain/indexes/__init__.py:3\u001B[0m\n\u001B[1;32m      1\u001B[0m \u001B[39m\"\"\"All index utils.\"\"\"\u001B[39;00m\n\u001B[1;32m      2\u001B[0m \u001B[39mfrom\u001B[39;00m \u001B[39mlangchain\u001B[39;00m\u001B[39m.\u001B[39;00m\u001B[39mindexes\u001B[39;00m\u001B[39m.\u001B[39;00m\u001B[39mgraph\u001B[39;00m \u001B[39mimport\u001B[39;00m GraphIndexCreator\n\u001B[0;32m----> 3\u001B[0m \u001B[39mfrom\u001B[39;00m \u001B[39mlangchain\u001B[39;00m\u001B[39m.\u001B[39;00m\u001B[39mindexes\u001B[39;00m\u001B[39m.\u001B[39;00m\u001B[39mvectorstore\u001B[39;00m \u001B[39mimport\u001B[39;00m VectorstoreIndexCreator\n\u001B[1;32m      5\u001B[0m __all__ \u001B[39m=\u001B[39m [\u001B[39m\"\u001B[39m\u001B[39mGraphIndexCreator\u001B[39m\u001B[39m\"\u001B[39m, \u001B[39m\"\u001B[39m\u001B[39mVectorstoreIndexCreator\u001B[39m\u001B[39m\"\u001B[39m]\n",
      "File \u001B[0;32m~/compiler/miniconda/envs/dfpy/lib/python3.10/site-packages/langchain/indexes/vectorstore.py:12\u001B[0m\n\u001B[1;32m     10\u001B[0m \u001B[39mfrom\u001B[39;00m \u001B[39mlangchain\u001B[39;00m\u001B[39m.\u001B[39;00m\u001B[39mllms\u001B[39;00m\u001B[39m.\u001B[39;00m\u001B[39mbase\u001B[39;00m \u001B[39mimport\u001B[39;00m BaseLLM\n\u001B[1;32m     11\u001B[0m \u001B[39mfrom\u001B[39;00m \u001B[39mlangchain\u001B[39;00m\u001B[39m.\u001B[39;00m\u001B[39mllms\u001B[39;00m\u001B[39m.\u001B[39;00m\u001B[39mopenai\u001B[39;00m \u001B[39mimport\u001B[39;00m OpenAI\n\u001B[0;32m---> 12\u001B[0m \u001B[39mfrom\u001B[39;00m \u001B[39mlangchain\u001B[39;00m\u001B[39m.\u001B[39;00m\u001B[39mschemas\u001B[39;00m \u001B[39mimport\u001B[39;00m Document\n\u001B[1;32m     13\u001B[0m \u001B[39mfrom\u001B[39;00m \u001B[39mlangchain\u001B[39;00m\u001B[39m.\u001B[39;00m\u001B[39mtext_splitter\u001B[39;00m \u001B[39mimport\u001B[39;00m RecursiveCharacterTextSplitter, TextSplitter\n\u001B[1;32m     14\u001B[0m \u001B[39mfrom\u001B[39;00m \u001B[39mlangchain\u001B[39;00m\u001B[39m.\u001B[39;00m\u001B[39mvectorstores\u001B[39;00m\u001B[39m.\u001B[39;00m\u001B[39mbase\u001B[39;00m \u001B[39mimport\u001B[39;00m VectorStore\n",
      "\u001B[0;31mModuleNotFoundError\u001B[0m: No module named 'langchain.schemas'"
     ]
    }
   ],
   "source": [
    "from langchain.chains import RetrievalQA\n",
    "from langchain.llms import OpenAI\n",
    "\n",
    "from langchain.document_loaders import TextLoader\n",
    "\n",
    "loader = TextLoader('demo.txt', encoding='utf8')\n",
    "\n",
    "from langchain.indexes import VectorstoreIndexCreator\n",
    "\n",
    "index = VectorstoreIndexCreator().from_loaders([loader])"
   ]
  },
  {
   "cell_type": "code",
   "execution_count": null,
   "metadata": {
    "collapsed": false
   },
   "outputs": [],
   "source": []
  }
 ],
 "metadata": {
  "kernelspec": {
   "display_name": "Python 3",
   "language": "python",
   "name": "python3"
  },
  "language_info": {
   "codemirror_mode": {
    "name": "ipython",
    "version": 3
   },
   "file_extension": ".py",
   "mimetype": "text/x-python",
   "name": "python",
   "nbconvert_exporter": "python",
   "pygments_lexer": "ipython3",
   "version": "3.10.10"
  }
 },
 "nbformat": 4,
 "nbformat_minor": 0
}
